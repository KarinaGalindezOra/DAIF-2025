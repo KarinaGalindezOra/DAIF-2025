{
 "cells": [
  {
   "cell_type": "markdown",
   "id": "5dfaa8a4-07d7-4047-be57-7cfe5c4088f7",
   "metadata": {},
   "source": [
    "# Agente LangChain"
   ]
  },
  {
   "cell_type": "markdown",
   "id": "00d00000-ca78-48a8-b245-a5f5643d4e5d",
   "metadata": {},
   "source": [
    "Este notebook implementa un agente que recopila noticias de las Fiestas Patrias y las procesa usando un LLM en OCI."
   ]
  },
  {
   "cell_type": "markdown",
   "id": "69740d84-2c48-4b00-bbdc-81baeea85f03",
   "metadata": {
    "tags": []
   },
   "source": [
    "## Funcionalidades"
   ]
  },
  {
   "cell_type": "markdown",
   "id": "95a9ae5b-c628-4761-931c-f050714a3c10",
   "metadata": {
    "tags": []
   },
   "source": [
    "📰 Recopila noticias sobre las Fiestas Patrias\n",
    "\n",
    "🤖 Procesa con un LLM vía OCI\n",
    "\n",
    "🔍 Búsqueda inteligente con LangChain"
   ]
  },
  {
   "cell_type": "markdown",
   "id": "4a68ff69-1cae-476e-ac6f-e2d311ee51b9",
   "metadata": {},
   "source": [
    "## Recopila noticias sobre las Fiestas Patrias"
   ]
  },
  {
   "cell_type": "code",
   "execution_count": 1,
   "id": "1e73f277-6ad5-40e2-ae55-52adea8561a9",
   "metadata": {
    "tags": []
   },
   "outputs": [
    {
     "name": "stdout",
     "output_type": "stream",
     "text": [
      "\u001b[33mWARNING: Ignoring invalid distribution ~equests (/opt/conda/lib/python3.11/site-packages)\u001b[0m\u001b[33m\n",
      "\u001b[0m\u001b[33mWARNING: Ignoring invalid distribution ~equests (/opt/conda/lib/python3.11/site-packages)\u001b[0m\u001b[33m\n",
      "\u001b[0mRequirement already satisfied: tavily-python in /opt/conda/lib/python3.11/site-packages (0.7.11)\n",
      "Requirement already satisfied: requests in /opt/conda/lib/python3.11/site-packages (from tavily-python) (2.32.5)\n",
      "Requirement already satisfied: tiktoken>=0.5.1 in /opt/conda/lib/python3.11/site-packages (from tavily-python) (0.11.0)\n",
      "Requirement already satisfied: httpx in /opt/conda/lib/python3.11/site-packages (from tavily-python) (0.28.1)\n",
      "Requirement already satisfied: regex>=2022.1.18 in /opt/conda/lib/python3.11/site-packages (from tiktoken>=0.5.1->tavily-python) (2025.9.1)\n",
      "Requirement already satisfied: charset_normalizer<4,>=2 in /opt/conda/lib/python3.11/site-packages (from requests->tavily-python) (3.3.2)\n",
      "Requirement already satisfied: idna<4,>=2.5 in /opt/conda/lib/python3.11/site-packages (from requests->tavily-python) (3.10)\n",
      "Requirement already satisfied: urllib3<3,>=1.21.1 in /opt/conda/lib/python3.11/site-packages (from requests->tavily-python) (2.5.0)\n",
      "Requirement already satisfied: certifi>=2017.4.17 in /opt/conda/lib/python3.11/site-packages (from requests->tavily-python) (2025.8.3)\n",
      "Requirement already satisfied: anyio in /opt/conda/lib/python3.11/site-packages (from httpx->tavily-python) (4.10.0)\n",
      "Requirement already satisfied: httpcore==1.* in /opt/conda/lib/python3.11/site-packages (from httpx->tavily-python) (1.0.9)\n",
      "Requirement already satisfied: h11>=0.16 in /opt/conda/lib/python3.11/site-packages (from httpcore==1.*->httpx->tavily-python) (0.16.0)\n",
      "Requirement already satisfied: sniffio>=1.1 in /opt/conda/lib/python3.11/site-packages (from anyio->httpx->tavily-python) (1.3.1)\n",
      "Requirement already satisfied: typing_extensions>=4.5 in /opt/conda/lib/python3.11/site-packages (from anyio->httpx->tavily-python) (4.14.1)\n",
      "\u001b[33mWARNING: Ignoring invalid distribution ~equests (/opt/conda/lib/python3.11/site-packages)\u001b[0m\u001b[33m\n",
      "\u001b[0m\u001b[33mWARNING: Ignoring invalid distribution ~equests (/opt/conda/lib/python3.11/site-packages)\u001b[0m\u001b[33m\n",
      "\u001b[0m\u001b[33mWARNING: Ignoring invalid distribution ~equests (/opt/conda/lib/python3.11/site-packages)\u001b[0m\u001b[33m\n",
      "\u001b[0m\u001b[33mWARNING: Ignoring invalid distribution ~equests (/opt/conda/lib/python3.11/site-packages)\u001b[0m\u001b[33m\n",
      "\u001b[0mRequirement already satisfied: langchain-community in /opt/conda/lib/python3.11/site-packages (0.3.29)\n",
      "Requirement already satisfied: langchain-core in /opt/conda/lib/python3.11/site-packages (0.3.75)\n",
      "Requirement already satisfied: oci in /opt/conda/lib/python3.11/site-packages (2.159.1)\n",
      "Requirement already satisfied: langchain<2.0.0,>=0.3.27 in /opt/conda/lib/python3.11/site-packages (from langchain-community) (0.3.27)\n",
      "Requirement already satisfied: SQLAlchemy<3,>=1.4 in /opt/conda/lib/python3.11/site-packages (from langchain-community) (2.0.43)\n",
      "Requirement already satisfied: requests<3,>=2.32.5 in /opt/conda/lib/python3.11/site-packages (from langchain-community) (2.32.5)\n",
      "Requirement already satisfied: PyYAML>=5.3 in /opt/conda/lib/python3.11/site-packages (from langchain-community) (6.0.2)\n",
      "Requirement already satisfied: aiohttp<4.0.0,>=3.8.3 in /opt/conda/lib/python3.11/site-packages (from langchain-community) (3.12.15)\n",
      "Requirement already satisfied: tenacity!=8.4.0,<10,>=8.1.0 in /opt/conda/lib/python3.11/site-packages (from langchain-community) (9.1.2)\n",
      "Requirement already satisfied: dataclasses-json<0.7,>=0.6.7 in /opt/conda/lib/python3.11/site-packages (from langchain-community) (0.6.7)\n",
      "Requirement already satisfied: pydantic-settings<3.0.0,>=2.10.1 in /opt/conda/lib/python3.11/site-packages (from langchain-community) (2.10.1)\n",
      "Requirement already satisfied: langsmith>=0.1.125 in /opt/conda/lib/python3.11/site-packages (from langchain-community) (0.4.25)\n",
      "Requirement already satisfied: httpx-sse<1.0.0,>=0.4.0 in /opt/conda/lib/python3.11/site-packages (from langchain-community) (0.4.1)\n",
      "Requirement already satisfied: numpy>=1.26.2 in /opt/conda/lib/python3.11/site-packages (from langchain-community) (2.3.2)\n",
      "Requirement already satisfied: jsonpatch<2.0,>=1.33 in /opt/conda/lib/python3.11/site-packages (from langchain-core) (1.33)\n",
      "Requirement already satisfied: typing-extensions>=4.7 in /opt/conda/lib/python3.11/site-packages (from langchain-core) (4.14.1)\n",
      "Requirement already satisfied: packaging>=23.2 in /opt/conda/lib/python3.11/site-packages (from langchain-core) (24.0)\n",
      "Requirement already satisfied: pydantic>=2.7.4 in /opt/conda/lib/python3.11/site-packages (from langchain-core) (2.11.7)\n",
      "Requirement already satisfied: aiohappyeyeballs>=2.5.0 in /opt/conda/lib/python3.11/site-packages (from aiohttp<4.0.0,>=3.8.3->langchain-community) (2.6.1)\n",
      "Requirement already satisfied: aiosignal>=1.4.0 in /opt/conda/lib/python3.11/site-packages (from aiohttp<4.0.0,>=3.8.3->langchain-community) (1.4.0)\n",
      "Requirement already satisfied: attrs>=17.3.0 in /opt/conda/lib/python3.11/site-packages (from aiohttp<4.0.0,>=3.8.3->langchain-community) (25.3.0)\n",
      "Requirement already satisfied: frozenlist>=1.1.1 in /opt/conda/lib/python3.11/site-packages (from aiohttp<4.0.0,>=3.8.3->langchain-community) (1.7.0)\n",
      "Requirement already satisfied: multidict<7.0,>=4.5 in /opt/conda/lib/python3.11/site-packages (from aiohttp<4.0.0,>=3.8.3->langchain-community) (6.6.3)\n",
      "Requirement already satisfied: propcache>=0.2.0 in /opt/conda/lib/python3.11/site-packages (from aiohttp<4.0.0,>=3.8.3->langchain-community) (0.3.2)\n",
      "Requirement already satisfied: yarl<2.0,>=1.17.0 in /opt/conda/lib/python3.11/site-packages (from aiohttp<4.0.0,>=3.8.3->langchain-community) (1.20.1)\n",
      "Requirement already satisfied: marshmallow<4.0.0,>=3.18.0 in /opt/conda/lib/python3.11/site-packages (from dataclasses-json<0.7,>=0.6.7->langchain-community) (3.26.1)\n",
      "Requirement already satisfied: typing-inspect<1,>=0.4.0 in /opt/conda/lib/python3.11/site-packages (from dataclasses-json<0.7,>=0.6.7->langchain-community) (0.9.0)\n",
      "Requirement already satisfied: jsonpointer>=1.9 in /opt/conda/lib/python3.11/site-packages (from jsonpatch<2.0,>=1.33->langchain-core) (3.0.0)\n",
      "Requirement already satisfied: langchain-text-splitters<1.0.0,>=0.3.9 in /opt/conda/lib/python3.11/site-packages (from langchain<2.0.0,>=0.3.27->langchain-community) (0.3.11)\n",
      "Requirement already satisfied: annotated-types>=0.6.0 in /opt/conda/lib/python3.11/site-packages (from pydantic>=2.7.4->langchain-core) (0.7.0)\n",
      "Requirement already satisfied: pydantic-core==2.33.2 in /opt/conda/lib/python3.11/site-packages (from pydantic>=2.7.4->langchain-core) (2.33.2)\n",
      "Requirement already satisfied: typing-inspection>=0.4.0 in /opt/conda/lib/python3.11/site-packages (from pydantic>=2.7.4->langchain-core) (0.4.1)\n",
      "Requirement already satisfied: python-dotenv>=0.21.0 in /opt/conda/lib/python3.11/site-packages (from pydantic-settings<3.0.0,>=2.10.1->langchain-community) (1.1.1)\n",
      "Requirement already satisfied: charset_normalizer<4,>=2 in /opt/conda/lib/python3.11/site-packages (from requests<3,>=2.32.5->langchain-community) (3.3.2)\n",
      "Requirement already satisfied: idna<4,>=2.5 in /opt/conda/lib/python3.11/site-packages (from requests<3,>=2.32.5->langchain-community) (3.10)\n",
      "Requirement already satisfied: urllib3<3,>=1.21.1 in /opt/conda/lib/python3.11/site-packages (from requests<3,>=2.32.5->langchain-community) (2.5.0)\n",
      "Requirement already satisfied: certifi>=2017.4.17 in /opt/conda/lib/python3.11/site-packages (from requests<3,>=2.32.5->langchain-community) (2025.8.3)\n",
      "Requirement already satisfied: greenlet>=1 in /opt/conda/lib/python3.11/site-packages (from SQLAlchemy<3,>=1.4->langchain-community) (3.2.4)\n",
      "Requirement already satisfied: mypy-extensions>=0.3.0 in /opt/conda/lib/python3.11/site-packages (from typing-inspect<1,>=0.4.0->dataclasses-json<0.7,>=0.6.7->langchain-community) (1.1.0)\n",
      "Requirement already satisfied: cryptography<46.0.0,>=3.2.1 in /opt/conda/lib/python3.11/site-packages (from oci) (44.0.3)\n",
      "Requirement already satisfied: pyOpenSSL<25.0.0,>=17.5.0 in /opt/conda/lib/python3.11/site-packages (from oci) (24.3.0)\n",
      "Requirement already satisfied: python-dateutil<3.0.0,>=2.5.3 in /opt/conda/lib/python3.11/site-packages (from oci) (2.9.0.post0)\n",
      "Requirement already satisfied: pytz>=2016.10 in /opt/conda/lib/python3.11/site-packages (from oci) (2025.2)\n",
      "Requirement already satisfied: circuitbreaker<3.0.0,>=1.3.1 in /opt/conda/lib/python3.11/site-packages (from oci) (2.1.3)\n",
      "Requirement already satisfied: cffi>=1.12 in /opt/conda/lib/python3.11/site-packages (from cryptography<46.0.0,>=3.2.1->oci) (1.17.1)\n",
      "Requirement already satisfied: six>=1.5 in /opt/conda/lib/python3.11/site-packages (from python-dateutil<3.0.0,>=2.5.3->oci) (1.17.0)\n",
      "Requirement already satisfied: pycparser in /opt/conda/lib/python3.11/site-packages (from cffi>=1.12->cryptography<46.0.0,>=3.2.1->oci) (2.21)\n",
      "Requirement already satisfied: httpx<1,>=0.23.0 in /opt/conda/lib/python3.11/site-packages (from langsmith>=0.1.125->langchain-community) (0.28.1)\n",
      "Requirement already satisfied: orjson>=3.9.14 in /opt/conda/lib/python3.11/site-packages (from langsmith>=0.1.125->langchain-community) (3.11.3)\n",
      "Requirement already satisfied: requests-toolbelt>=1.0.0 in /opt/conda/lib/python3.11/site-packages (from langsmith>=0.1.125->langchain-community) (1.0.0)\n",
      "Requirement already satisfied: zstandard>=0.23.0 in /opt/conda/lib/python3.11/site-packages (from langsmith>=0.1.125->langchain-community) (0.23.0)\n",
      "Requirement already satisfied: anyio in /opt/conda/lib/python3.11/site-packages (from httpx<1,>=0.23.0->langsmith>=0.1.125->langchain-community) (4.10.0)\n",
      "Requirement already satisfied: httpcore==1.* in /opt/conda/lib/python3.11/site-packages (from httpx<1,>=0.23.0->langsmith>=0.1.125->langchain-community) (1.0.9)\n",
      "Requirement already satisfied: h11>=0.16 in /opt/conda/lib/python3.11/site-packages (from httpcore==1.*->httpx<1,>=0.23.0->langsmith>=0.1.125->langchain-community) (0.16.0)\n",
      "Requirement already satisfied: sniffio>=1.1 in /opt/conda/lib/python3.11/site-packages (from anyio->httpx<1,>=0.23.0->langsmith>=0.1.125->langchain-community) (1.3.1)\n",
      "\u001b[33mWARNING: Ignoring invalid distribution ~equests (/opt/conda/lib/python3.11/site-packages)\u001b[0m\u001b[33m\n",
      "\u001b[0m\u001b[33mWARNING: Ignoring invalid distribution ~equests (/opt/conda/lib/python3.11/site-packages)\u001b[0m\u001b[33m\n",
      "\u001b[0m"
     ]
    }
   ],
   "source": [
    "!pip install tavily-python\n",
    "!pip install -U langchain-community langchain-core oci"
   ]
  },
  {
   "cell_type": "code",
   "execution_count": 74,
   "id": "a54d6a7b-5df0-4844-82a4-c08f81aa74a7",
   "metadata": {
    "tags": []
   },
   "outputs": [],
   "source": [
    "import requests\n",
    "from langchain_core.tools import tool\n",
    "from typing import Dict, List\n",
    "import re\n",
    "from tavily import TavilyClient\n",
    "\n",
    "CHILE_FIESTAS_DOMAINS = [\n",
    "    \"gob.cl\", \"minsal.cl\", \"minagri.gob.cl\", \"diariooficial.interior.gob.cl\",\n",
    "    \"munistgo.cl\", \"muninunoa.cl\", \"munilascondes.cl\", \"cooperativa.cl\",\n",
    "    \"latercera.com\", \"emol.com\", \"biobiochile.cl\", \"24horas.cl\"\n",
    "]\n",
    "@tool\n",
    "def get_fiestas_patrias_comprehensive_news(pregunta:str=\"Programa, feriados y fondas de Fiestas Patrias en Santiago\") -> str:\n",
    "    \"\"\"Devuelve info/noticias de Fiestas Patrias en Chile (fondas, ramadas, Parada Militar, feriados, normas).\"\"\"\n",
    "    \n",
    "    client = TavilyClient(\"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\") #es la API de dev\n",
    "    response = client.search(\n",
    "    query=pregunta,\n",
    "    #include_domains=CHILE_FIESTAS_DOMAINS,\n",
    "    #topic=\"news\",\n",
    "    #days=45,\n",
    "    #max_results=10\n",
    "    )\n",
    "    return response"
   ]
  },
  {
   "cell_type": "markdown",
   "id": "00cd285f-a7bd-4102-9457-b75dd188fc61",
   "metadata": {},
   "source": [
    "## Configuración de la autenticación del SDK de OCI"
   ]
  },
  {
   "cell_type": "code",
   "execution_count": 59,
   "id": "4dbc5c76-da7c-4bba-98ae-9649a6c289a5",
   "metadata": {},
   "outputs": [],
   "source": [
    "# crea carpeta y permisos\n",
    "!mkdir -p /home/datascience/.oci"
   ]
  },
  {
   "cell_type": "code",
   "execution_count": 4,
   "id": "cb7f5c13-2ba1-46b9-8f8e-1e8bf39db2f4",
   "metadata": {
    "tags": []
   },
   "outputs": [
    {
     "name": "stdout",
     "output_type": "stream",
     "text": [
      "/home/datascience\n",
      "total 26214504\n",
      "drwxr-xr-x. 13 datascience users         4096 Sep  8 02:22 .\n",
      "drwxr-xr-x.  1 root        root          4096 Aug 10 18:52 ..\n",
      "-rw-------.  1 nobody      nobody 26843545600 Sep  8 02:14 .__nb_swap__\n",
      "drwxr-xr-x.  6 datascience users         4096 Sep  8 00:05 .cache\n",
      "drwxr-xr-x.  3 datascience users         4096 Sep  8 00:02 .config\n",
      "drwxr-xr-x.  2 datascience users         4096 Sep  8 02:17 .ipynb_checkpoints\n",
      "drwxr-xr-x.  3 datascience users         4096 Sep  8 00:05 .ipython\n",
      "drwxr-xr-x.  3 datascience users         4096 Sep  8 00:02 .local\n",
      "drwxr-x---.  2 datascience users         4096 Sep  8 00:02 .mnt\n",
      "drwxr-xr-x.  2 datascience users         4096 Sep  8 02:18 .oci\n",
      "drwxr-x---.  3 nobody      nobody        4096 Sep  8 00:02 .rclone\n",
      "drwxr-xr-x.  2 datascience users         4096 Sep  8 00:02 .runtime-config-logs\n",
      "-rw-r--r--.  1 datascience users        28759 Sep  8 02:22 Untitled3.ipynb\n",
      "-rw-r--r--.  1 datascience users           72 Sep  8 01:41 getting_started.ipynb\n",
      "drwx------.  2 nobody      nobody       16384 Sep  8 00:02 lost+found\n",
      "drwxr-xr-x.  3 datascience users         4096 Sep  8 01:39 venvs\n"
     ]
    }
   ],
   "source": [
    "# Ver tu HOME y listar (incluye ocultos)\n",
    "!echo $HOME\n",
    "!ls -la $HOME | head -n 30"
   ]
  },
  {
   "cell_type": "code",
   "execution_count": 8,
   "id": "0dba1b9b-0309-4677-ab7b-36a9b9e7066b",
   "metadata": {
    "tags": []
   },
   "outputs": [
    {
     "name": "stdout",
     "output_type": "stream",
     "text": [
      "total 8\n",
      "drwxr-xr-x.  2 datascience users 4096 Sep  8 02:18 .\n",
      "drwxr-xr-x. 13 datascience users 4096 Sep  8 02:26 ..\n"
     ]
    }
   ],
   "source": [
    "!mkdir -p ~/.oci\n",
    "!ls -la ~/.oci\n"
   ]
  },
  {
   "cell_type": "code",
   "execution_count": 16,
   "id": "951f2815-054d-4dc8-9529-2a73265a156e",
   "metadata": {
    "tags": []
   },
   "outputs": [
    {
     "name": "stdout",
     "output_type": "stream",
     "text": [
      "total 16\n",
      "drwxr-xr-x.  2 datascience users 4096 Sep  8 02:38 .\n",
      "drwxr-xr-x. 13 datascience users 4096 Sep  8 02:38 ..\n",
      "-rw-r--r--.  1 datascience users  371 Sep  8 02:36 config\n",
      "-rw-------.  1 datascience users 1715 Sep  8 02:38 oci_api_key.pem\n"
     ]
    }
   ],
   "source": [
    "!mv ~/oci_api_key.pem ~/.oci/oci_api_key.pem\n",
    "!chmod 600 ~/.oci/oci_api_key.pem\n",
    "!ls -la ~/.oci"
   ]
  },
  {
   "cell_type": "code",
   "execution_count": 24,
   "id": "3aa8abdf-a239-430b-9f57-2380ff1995bb",
   "metadata": {
    "tags": []
   },
   "outputs": [
    {
     "name": "stdout",
     "output_type": "stream",
     "text": [
      "Config creado en ~/.oci/config\n",
      "[DEFAULT]\n",
      "user=ocid1.user.oc1..aaaaaaaao3vm22tuwkzluqdgeoka6uq7xaix2zlmpnmwrj27bcrdsufdkuha\n",
      "tenancy=ocid1.tenancy.oc1..aaaaaaaaoi6b5sxlv4z773boczybqz3h2vspvvru42jysvizl77lky22ijaq\n",
      "region=us-chicago-1\n",
      "fingerprint=<oculto>\n",
      "key_file=/home/datascience/.oci/oci_api_key.pem\n"
     ]
    }
   ],
   "source": [
    "%%bash\n",
    "cat > ~/.oci/config <<'CFG'\n",
    "[DEFAULT]\n",
    "user=ocid1.user.oc1..aaaaaaaao3vm22tuwkzluqdgeoka6uq7xaix2zlmpnmwrj27bcrdsufdkuha\n",
    "tenancy=ocid1.tenancy.oc1..aaaaaaaaoi6b5sxlv4z773boczybqz3h2vspvvru42jysvizl77lky22ijaq\n",
    "region=us-chicago-1\n",
    "fingerprint=f6:ec:66:50:04:b4:be:ca:55:c6:21:03:16:73:67:25\n",
    "key_file=/home/datascience/.oci/oci_api_key.pem\n",
    "CFG\n",
    "\n",
    "echo \"Config creado en ~/.oci/config\"\n",
    "cat ~/.oci/config | sed 's/fingerprint=.*/fingerprint=<oculto>/'"
   ]
  },
  {
   "cell_type": "code",
   "execution_count": 68,
   "id": "9fe49d86-3bdf-42c8-9c17-9673a9541414",
   "metadata": {
    "tags": []
   },
   "outputs": [
    {
     "name": "stdout",
     "output_type": "stream",
     "text": [
      "[DEFAULT]\n",
      "user=ocid1.user.oc1..aaaaaaaao3vm22tuwkzluqdgeoka6uq7xaix2zlmpnmwrj27bcrdsufdkuha\n",
      "tenancy=ocid1.tenancy.oc1..aaaaaaaaoi6b5sxlv4z773boczybqz3h2vspvvru42jysvizl77lky22ijaq\n",
      "region=us-chicago-1\n",
      "fingerprint=f6:ec:66:50:04:b4:be:ca:55:c6:21:03:16:73:67:25\n",
      "key_file=/home/datascience/.oci/oci_api_key.pem\n"
     ]
    }
   ],
   "source": [
    "# Quita posibles finales de línea de Windows (CRLF)\n",
    "!sed -i 's/\\r$//' ~/.oci/config\n",
    "\n",
    "# mostrar\n",
    "!sed -n '1,200p' ~/.oci/config"
   ]
  },
  {
   "cell_type": "markdown",
   "id": "89e084ae-d7c2-4e21-b6f7-56f14e8507b6",
   "metadata": {},
   "source": [
    "## 🤖 Creación del Agente LangChain"
   ]
  },
  {
   "cell_type": "code",
   "execution_count": 77,
   "id": "b33d7b28-e4f6-4bbd-b54b-785f34b6f59c",
   "metadata": {
    "tags": []
   },
   "outputs": [
    {
     "name": "stdout",
     "output_type": "stream",
     "text": [
      "\n",
      "\n",
      "\u001b[1m> Entering new AgentExecutor chain...\u001b[0m\n",
      "\u001b[32;1m\u001b[1;3mThought: Para responder a la pregunta sobre cuándo son las fechas patrias en Chile, necesito obtener información oficial y reciente sobre los feriados de Fiestas Patrias en Chile.\n",
      "\n",
      "Action: get_fiestas_patrias_comprehensive_news\n",
      "Action Input: fechas de Fiestas Patrias en Chile\n",
      "\u001b[0m\u001b[36;1m\u001b[1;3m{'query': 'fechas de Fiestas Patrias en Chile\\n', 'follow_up_questions': None, 'answer': None, 'images': [], 'results': [{'url': 'https://chile.travel/eventos/fiestas-patrias/', 'title': 'Fiestas Patrias - Chile Travel', 'content': 'Todos los años, el 18 de septiembre, Chile celebra grandiosamente las Fiestas Patrias para conmemorar el inicio del proceso de Independencia de la Corona Española. Conocidas comúnmente como “el dieciocho” (en alusión a la fecha), la mayoría de las celebraciones más grandes ocurren alrededor de los días 18 y 19, pero el período de festividad puede durar hasta una semana. La gran mayoría de los chilenos celebra esta festividad en asados y “fondas”, disfrutando de comidas y bebidas tradicionales como las empanadas y la chicha. Las fondas más grandes, como la del Parque O’Higgins en Santiago, atraen cientos de personas a sus carpas festivamente decoradas, su ambiente de júbilo y al son del baile nacional: la cueca.', 'score': 0.93191636, 'raw_content': None}, {'url': 'https://bodyandsoulinternational.com/es/events-in-chile?view=article&id=3469&catid=287', 'title': 'Fiestas Patrias Chile 2025 - Descubre la Celebración Nacional de ...', 'content': 'May 21, 2025·Fecha: 18-19 de septiembre de 2025 en Chile. Las Fiestas Patrias de Chile 2025 marcan un período significativo en el calendario nacional chileno', 'score': 0.9257218, 'raw_content': None}, {'url': 'https://www.twinkl.es/event/fiestas-patrias-chile-2025', 'title': 'Fiestas Patrias Chile | Celebraciones - Twinkl', 'content': 'Las Fiestas Patrias se celebran durante todo el mes de septiembre en Chile. Sin embargo, la fecha específica de la celebración es el 18 de septiembre,', 'score': 0.923268, 'raw_content': None}, {'url': 'https://en.wikipedia.org/wiki/Fiestas_Patrias_(Chile)', 'title': 'Fiestas Patrias (Chile) - Wikipedia', 'content': '# Fiestas Patrias (Chile) This article is about The Fiestas Patrias of Chile. *Find sources:*\\xa0\"Fiestas Patrias\"\\xa0Chile\\xa0–\\xa0news\\xa0**·** newspapers\\xa0**·** books\\xa0**·** scholar\\xa0**·** JSTOR *(September 2017)* *(Learn how and when to remove this message)* | A model attribution edit summary is `Content in this edit is translated from the existing Spanish Wikipedia article at ; see its history for attribution.` * You may also add the template `{{Translated|es|Fiestas Patrias en Chile}}` to the talk page \"Talk:Fiestas Patrias (Chile)\"). The **Fiestas Patrias** (literally **Homeland Holidays**) of Chile consist of two days, with a third one added on some years: Within Chile the Fiestas Patrias are often referred to as the Dieciocho, or \"18th\" because the celebration occurs on 18 September.', 'score': 0.910998, 'raw_content': None}, {'url': 'https://www.uss.cl/noticias/celebracion-fiestas-patrias-18/', 'title': '¿Por qué las Fiestas Patrias se celebran el 18 de septiembre?', 'content': '«De acuerdo al portal Memoria Chilena, en un principio, se realizaban fiestas cívicas en tres fechas: 18 de septiembre, 12 de febrero y 5 de abril, las que', 'score': 0.8700796, 'raw_content': None}], 'response_time': 1.51, 'request_id': 'c7c8faf8-244f-4f86-a7ae-a87fc58a57fc'}\u001b[0m\u001b[32;1m\u001b[1;3mLas Fiestas Patrias en Chile se celebran principalmente el 18 y 19 de septiembre de cada año. El 18 de septiembre es la fecha específica que conmemora el inicio del proceso de Independencia de la Corona Española. Aunque las celebraciones más grandes ocurren alrededor de estas fechas, el período de festividad puede extenderse hasta una semana.\n",
      "\n",
      "Final Answer: Las Fiestas Patrias en Chile se celebran el 18 y 19 de septiembre.\u001b[0m\n",
      "\n",
      "\u001b[1m> Finished chain.\u001b[0m\n",
      "\n",
      "\n",
      "\u001b[1m> Entering new AgentExecutor chain...\u001b[0m\n",
      "\u001b[32;1m\u001b[1;3mPara responder a la pregunta, necesito obtener información actualizada sobre las fondas en Santiago, sus horarios y detalles sobre la Parada Militar durante las Fiestas Patrias.\n",
      "\n",
      "Action: get_fiestas_patrias_comprehensive_news\n",
      "\n",
      "Action Input: Programa, fondas y Parada Militar de Fiestas Patrias en Santiago\n",
      "\u001b[0m\u001b[36;1m\u001b[1;3m{'query': 'Programa, fondas y Parada Militar de Fiestas Patrias en Santiago\\n', 'follow_up_questions': None, 'answer': None, 'images': [], 'results': [{'url': 'https://www.fiestascostumbristas.cl/2025/08/02/fondas-santiago-2025/', 'title': '7 Fondas Para Celebrar Las Fiestas Patrias 2025 En Santiago', 'content': 'Aug 2, 2025·La Yein Fonda 2025 se realizará en Parque Ciudad Empresarial de Huechuraba, del 17 al 20 de septiembre. Este evento es una de las celebraciones', 'score': 0.7286136, 'raw_content': None}, {'url': 'https://www.latercera.com/servicios/noticia/donde-celebrar-fiestas-patrias-estas-son-las-fondas-de-la-rm-con-su-programacion-de-artistas-y-precios-de-las-entradas/', 'title': '¿Dónde celebrar Fiestas Patrias? Estas son las fondas de la RM ...', 'content': '5 days ago·La icónica fonda de Santiago se extenderá durante cinco días con una lista de invitados encabezada por Zúmbale Primo, Los Vásquez, Amar Azul y', 'score': 0.6493346, 'raw_content': None}, {'url': 'https://chileestuyo.cl/fondas-en-santiago-conoce-las-mejores-para-celebrar-fiestas-patrias/', 'title': 'Fondas en Santiago 2025: Conoce las mejores para Fiestas Patrias', 'content': 'Aug 29, 2025·Precio: Desde $ 13.800 para adultos y $ 5.750 para niños entre 6 y 13 años · Cuándo: 18, 19, 20 y 21 de septiembre · Horarios: Desde las 12:00', 'score': 0.588062, 'raw_content': None}, {'url': 'https://www.13.cl/programas/servicios-13/actualidad/para-disfrutar-gratis-las-fiestas-patrias-estas-son-las-fondas', 'title': 'Estas son las fondas GRATIS en la Región Metropolitana | El 13 | 13.cl', 'content': '5 days ago·Revisa las fondas y ramadas de la Región Metropolitana que no tienen costo de entrada para celebrar estas Fiestas Patrias.', 'score': 0.47431523, 'raw_content': None}, {'url': 'https://www.mega.cl/mega-te-ayuda/178432-fondas-gratis-en-santiago-2024-horario-artistas-fiestas-patrias-entradas-valparaiso.html', 'title': 'Fondas gratis en las Fiestas Patrias 2024: Revisa los panoramas ...', 'content': 'Sep 16, 2024·Desde exposiciones, talleres y juegos típicos, además de una fonda que se realiza entre el viernes 20 y el domingo 22 de septiembre, con entrada', 'score': 0.4286405, 'raw_content': None}], 'response_time': 1.53, 'request_id': 'a3417692-eb41-44ae-8a9c-994c29c84888'}\u001b[0m\u001b[32;1m\u001b[1;3mLos resultados obtenidos proporcionan información sobre fondas en Santiago y algunos detalles sobre eventos relacionados con las Fiestas Patrias. Sin embargo, la información es de diferentes años y no toda es actualizada. Me enfocaré en la información más reciente y relevante.\n",
      "\n",
      "Se mencionan algunas fondas en Santiago para las Fiestas Patrias 2025, como \"La Yein Fonda 2025\" en Parque Ciudad Empresarial de Huechuraba, que se realizará del 17 al 20 de septiembre. Otra fuente menciona fondas en la Región Metropolitana con programación de artistas y precios de entradas variados. También se indica que algunas fondas son gratuitas.\n",
      "\n",
      "No hay información explícita sobre la Parada Militar en los resultados obtenidos.\n",
      "\n",
      "Para proporcionar una respuesta más precisa y actualizada, resumiré la información disponible y destacaré los detalles más relevantes.\n",
      "\n",
      "Final Answer:\n",
      "Las fondas en Santiago para las Fiestas Patrias 2025 incluyen opciones como \"La Yein Fonda 2025\" en Parque Ciudad Empresarial de Huechuraba, del 17 al 20 de septiembre. Otras fondas en la Región Metropolitana tienen diferentes horarios y precios. Es recomendable verificar los detalles específicos en las fuentes mencionadas. La información sobre la Parada Militar no está disponible en los resultados obtenidos. Se sugiere buscar en fuentes oficiales del Gobierno o medios chilenos para obtener información actualizada sobre este evento. \n",
      "\n",
      "Fuentes útiles:\n",
      "- https://www.fiestascostumbristas.cl/2025/08/02/fondas-santiago-2025/\n",
      "- https://www.latercera.com/servicios/noticia/donde-celebrar-fiestas-patrias-estas-son-las-fondas-de-la-rm-con-su-programacion-de-artistas-y-precios-de-las-entradas/\n",
      "- https://chileestuyo.cl/fondas-en-santiago-conoce-las-mejores-para-celebrar-fiestas-patrias/\n",
      "- https://www.13.cl/programas/servicios-13/actualidad/para-disfrutar-gratis-las-fiestas-patrias-estas-son-las-fondas\u001b[0m\n",
      "\n",
      "\u001b[1m> Finished chain.\u001b[0m\n"
     ]
    }
   ],
   "source": [
    "from langchain_core.messages import HumanMessage\n",
    "from langchain_community.chat_models import ChatOCIGenAI\n",
    "from langchain.agents import AgentExecutor, create_react_agent\n",
    "from langchain_core.prompts import PromptTemplate\n",
    "\n",
    "# Configura tu endpoint y compartimento\n",
    "REGION = \"us-chicago-1\"  # cambia si usas otra región para GenAI\n",
    "ENDPOINT = f\"https://inference.generativeai.{REGION}.oci.oraclecloud.com\"\n",
    "\n",
    "llm = ChatOCIGenAI(\n",
    "  model_id=\"meta.llama-4-maverick-17b-128e-instruct-fp8\",\n",
    "  service_endpoint=\"https://inference.generativeai.us-chicago-1.oci.oraclecloud.com\",\n",
    "  compartment_id=\"ocid1.compartment.oc1..aaaaaaaawy5gpq67r3rxc7yf6yn7oesvvgr56dqg7o5y3f5ndzt2mddtj46a\",\n",
    "  provider=\"meta\",\n",
    "  model_kwargs={\n",
    "    \"temperature\": 0.3, \n",
    "    \"max_tokens\": 800,   \n",
    "    \"top_p\": 0.8,  \n",
    "    \"frequency_penalty\": 0,\n",
    "    \"presence_penalty\": 0,\n",
    "  },\n",
    "  auth_type=\"API_KEY\",\n",
    "  auth_profile=\"DEFAULT\"\n",
    ")\n",
    "\n",
    "tools = [get_fiestas_patrias_comprehensive_news]\n",
    "\n",
    "react_prompt_template = \"\"\"Eres un asistente especializado en **Fiestas Patrias de Chile**.\n",
    "Responde en español de Chile y usa las herramientas disponibles cuando sea útil.\n",
    "\n",
    "REGLAS IMPORTANTES:\n",
    "- Tras usar una herramienta, **resume con tus palabras** los hallazgos (no pegues el JSON).\n",
    "- Prioriza información **reciente y oficial** (Gobierno, municipalidades, medios chilenos).\n",
    "- Incluye **fechas, lugares, horarios** y **enlaces** útiles cuando existan.\n",
    "- Si hay discrepancias entre fuentes, indícalas brevemente.\n",
    "\n",
    "Herramientas disponibles:\n",
    "{tools}\n",
    "\n",
    "Usa EXACTAMENTE este formato:\n",
    "\n",
    "Question: la pregunta a responder\n",
    "Thought: explica qué harás\n",
    "Action: una de [{tool_names}]\n",
    "Action Input: el input para la acción (o \"\" si no aplica)\n",
    "Observation: resultado de la acción\n",
    "Thought: analiza y sintetiza\n",
    "Final Answer: respuesta clara y útil en español de Chile\n",
    "\n",
    "Comienza.\n",
    "\n",
    "Question: {input}\n",
    "Thought:{agent_scratchpad}\"\"\"\n",
    "\n",
    "prompt = PromptTemplate.from_template(react_prompt_template)\n",
    "agent = create_react_agent(llm, tools, prompt)\n",
    "\n",
    "agent_executor = AgentExecutor(\n",
    "    agent=agent,\n",
    "    tools=tools,\n",
    "    verbose=True,\n",
    "    max_iterations=3,\n",
    "    stream_runnable=False,\n",
    "    handle_parsing_errors=True\n",
    ")\n",
    "pregunta = \"cuándo son las fechas patrias en Chile?\"\n",
    "respuesta = agent_executor.invoke({\"input\": pregunta})\n",
    "\n",
    "pregunta = \"¿Cuáles son las mejores fondas en Santiago y cuáles son los horarios? ¿Habrá Parada Militar?\"\n",
    "respuesta = agent_executor.invoke({\"input\": pregunta})\n"
   ]
  },
  {
   "cell_type": "code",
   "execution_count": 78,
   "id": "8ba9c18b-2e1f-4a4b-bf43-0ac876d73634",
   "metadata": {
    "tags": []
   },
   "outputs": [
    {
     "data": {
      "text/markdown": [
       "## Resumen\n",
       "- Las fondas en Santiago para Fiestas Patrias 2025 tienen varias opciones, como \"La Yein Fonda 2025\" en Parque Ciudad Empresarial de Huechuraba.\n",
       "- Es recomendable verificar detalles específicos en fuentes como https://www.fiestascostumbristas.cl/2025/08/02/fondas-santiago-2025/ y otras.\n",
       "- La información sobre la Parada Militar no está disponible en los datos obtenidos.\n",
       "- Se sugiere buscar en fuentes oficiales del Gobierno o medios chilenos para obtener información actualizada.\n",
       "\n",
       "## Fondas y ramadas\n",
       "- **Huechuraba – La Yein Fonda 2025**: Parque Ciudad Empresarial | 17 al 20 de septiembre | *No disponible* | *No disponible* | https://www.fiestascostumbristas.cl/2025/08/02/fondas-santiago-2025/\n",
       "- Otras fondas en la Región Metropolitana tienen diferentes horarios y precios. Para más detalles, revisar fuentes como https://www.latercera.com/servicios/noticia/donde-celebrar-fiestas-patrias-estas-son-las-fondas-de-la-rm-con-su-programacion-de-artistas-y-precios-de-las-entradas/ y https://chileestuyo.cl/fondas-en-santiago-conoce-las-mejores-para-celebrar-fiestas-patrias/\n",
       "\n",
       "## Parada Militar\n",
       "- *No disponible*. Se sugiere buscar en fuentes oficiales del Gobierno o medios chilenos para obtener información actualizada sobre este evento.\n",
       "\n",
       "## Fuentes\n",
       "- https://www.fiestascostumbristas.cl/2025/08/02/fondas-santiago-2025/\n",
       "- https://www.latercera.com/servicios/noticia/donde-celebrar-fiestas-patrias-estas-son-las-fondas-de-la-rm-con-su-programacion-de-artistas-y-precios-de-las-entradas/\n",
       "- https://chileestuyo.cl/fondas-en-santiago-conoce-las-mejores-para-celebrar-fiestas-patrias/\n",
       "- https://www.13.cl/programas/servicios-13/actualidad/para-disfrutar-gratis-las-fiestas-patrias-estas-son-las-fondas"
      ],
      "text/plain": [
       "<IPython.core.display.Markdown object>"
      ]
     },
     "metadata": {},
     "output_type": "display_data"
    }
   ],
   "source": [
    "from IPython.display import Markdown, display\n",
    "import json\n",
    "\n",
    "# 1) Toma la salida del agente y conviértela a texto de forma segura\n",
    "def _to_text(x):\n",
    "    if isinstance(x, dict):\n",
    "        # LangChain AgentExecutor suele devolver {\"output\": \"...\"}\n",
    "        return x.get(\"output\") or json.dumps(x, ensure_ascii=False, indent=2)\n",
    "    return str(x)\n",
    "\n",
    "insumos = _to_text(respuesta)   # <--- usa la variable 'respuesta' que ya tienes del agente\n",
    "\n",
    "# 2) Prompt de análisis/síntesis para Fiestas Patrias (Chile)\n",
    "analysis_prompt = f\"\"\"\n",
    "Eres un analista chileno especializado en **Fiestas Patrias**.\n",
    "Usa solo los datos entregados más abajo para responder en **español de Chile**, claro y útil.\n",
    "\n",
    "DATOS RECOLECTADOS (pueden incluir JSON):\n",
    "{insumos}\n",
    "\n",
    "TAREAS:\n",
    "1) Responde directamente a la pregunta: \"{pregunta}\".\n",
    "2) Extrae y organiza lo más importante (si está disponible): **fechas** (18–19 de septiembre), **fondas/ramadas** por comuna,\n",
    "   **lugar exacto**, **horarios**, **precio/entradas**, **requisitos**, y **enlaces oficiales**.\n",
    "3) Indica si habrá **Parada Militar** (fecha, horario y lugar) y cualquier impacto (cortes, accesos, transporte) si está en los datos.\n",
    "4) Si hay discrepancias entre fuentes, menciónalas brevemente.\n",
    "\n",
    "FORMATO (Markdown):\n",
    "## Resumen\n",
    "- 3–5 líneas con lo esencial.\n",
    "\n",
    "## Fondas y ramadas (si hay datos)\n",
    "- **Comuna – Evento**: lugar | fechas | horarios | entradas | enlace\n",
    "\n",
    "## Parada Militar (si aplica)\n",
    "- fecha | hora | lugar | enlaces\n",
    "\n",
    "## Fuentes\n",
    "- Lista de URLs citadas (solo si aparecen en los datos).\n",
    "\n",
    "REGLAS:\n",
    "- **No inventes** datos ni enlaces. Si algo no está en los datos, escribe: *No disponible*.\n",
    "- Prioriza información **reciente y oficial** (gob.cl, municipalidades, medios chilenos).\n",
    "\"\"\"\n",
    "\n",
    "# 3) Invoca la LLM (no streaming) y muestra en Markdown\n",
    "analysis_response = llm.invoke(analysis_prompt)\n",
    "display(Markdown(analysis_response.content))"
   ]
  },
  {
   "cell_type": "code",
   "execution_count": null,
   "id": "0d6a4ace-a5db-46a8-aeda-d81c79f4dd82",
   "metadata": {},
   "outputs": [],
   "source": []
  }
 ],
 "metadata": {
  "kernelspec": {
   "display_name": "Python 3 (ipykernel)",
   "language": "python",
   "name": "python3"
  },
  "language_info": {
   "codemirror_mode": {
    "name": "ipython",
    "version": 3
   },
   "file_extension": ".py",
   "mimetype": "text/x-python",
   "name": "python",
   "nbconvert_exporter": "python",
   "pygments_lexer": "ipython3",
   "version": "3.11.9"
  },
  "toc-autonumbering": true
 },
 "nbformat": 4,
 "nbformat_minor": 5
}
